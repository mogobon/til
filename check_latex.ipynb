{
 "cells": [
  {
   "cell_type": "markdown",
   "metadata": {},
   "source": [
    "# LaTeX出力のテスト\n"
   ]
  },
  {
   "cell_type": "markdown",
   "metadata": {},
   "source": [
    "$$\n",
    "\\begin{align*}\n",
    "& \\text{\\Huge{sample}} \\\\\n",
    "& \\text{\\huge{sample}} \\\\\n",
    "& \\text{\\LARGE{sample}} \\\\\n",
    "& \\text{\\Large{sample}} \\\\\n",
    "& \\text{\\large{sample}} \\\\\n",
    "& \\text{\\normalsize{sample}} \\\\\n",
    "& \\text{\\small{sample}} \\\\\n",
    "& \\text{\\footnotesize{sample}} \\\\\n",
    "& \\text{\\scriptsize{sample}} \\\\\n",
    "& \\text{\\tiny{sample}}\n",
    "\\end{align*}\n",
    "$$"
   ]
  },
  {
   "cell_type": "markdown",
   "metadata": {},
   "source": [
    "\n",
    "$$\n",
    "a\\cdot b \\quad = \\overset{\\raisebox{1.5ex}{\\text{\\footnotesize Step1. 各要素の積をとる}}}{\\underbrace{{\\overbrace{a_{1}b_{1}}+\\overbrace{a_{2}b_{2}}+\\overbrace{a_{3}b_{3}}}}_{\\raisebox{-3.5ex}{\\text{\\footnotesize Step2. 各要素の積の総和をとる}}}}\n",
    "$$"
   ]
  }
 ],
 "metadata": {
  "kernelspec": {
   "display_name": "Python 3 (ipykernel)",
   "language": "python",
   "name": "python3"
  },
  "language_info": {
   "codemirror_mode": {
    "name": "ipython",
    "version": 3
   },
   "file_extension": ".py",
   "mimetype": "text/x-python",
   "name": "python",
   "nbconvert_exporter": "python",
   "pygments_lexer": "ipython3",
   "version": "3.11.7"
  }
 },
 "nbformat": 4,
 "nbformat_minor": 4
}
