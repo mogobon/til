{
 "cells": [
  {
   "cell_type": "code",
   "execution_count": null,
   "id": "53829b18",
   "metadata": {
    "scrolled": false
   },
   "outputs": [],
   "source": [
    "def selenium_open_browser(url):\n",
    "    # import getpass\n",
    "    from selenium import webdriver\n",
    "    from selenium.webdriver.chrome import service\n",
    "    import time\n",
    "\n",
    "    # 以下のオプションはhttps://qiita.com/kawagoe6884/items/cea239681bdcffe31828のものをコピペしてます.\n",
    "    from selenium.webdriver.chrome.options import Options\n",
    "    options = Options()\n",
    "    #options.add_argument('--blink-settings=imagesEnabled=false')                    # 画像の非表示\n",
    "    options.add_argument('--disable-blink-features=AutomationControlled')           # navigator.webdriver=false とする設定\n",
    "    options.add_argument('--disable-browser-side-navigation')                       # Timed out receiving message from renderer: の修正\n",
    "    options.add_argument('--disable-dev-shm-usage')                                 # ディスクのメモリスペースを使う\n",
    "    options.add_argument('--disable-extensions')                                    # すべての拡張機能を無効\n",
    "    options.add_argument('--disable-gpu')                                           # GPUハードウェアアクセラレーションを無効\n",
    "    # options.add_argument('--headless')                                            # ヘッドレスモードで起動\n",
    "    options.add_argument('--ignore-certificate-errors')                             # SSL認証(この接続ではプライバシーが保護されません)を無効\n",
    "    options.add_argument('--incognito')                                             # シークレットモードで起動\n",
    "    options.add_argument('--no-sandbox')                                            # Chromeの保護機能を無効\n",
    "    options.add_argument('--start-maximized')                                     # 初期のウィンドウサイズを最大化\n",
    "    options.add_argument('--window-size=1920,1080')                                 # 初期のウィンドウサイズを指定\n",
    "    options.add_experimental_option(\"excludeSwitches\", ['enable-automation'])       # Chromeは自動テスト ソフトウェア~~ を非表示\n",
    "    options.add_experimental_option(\"excludeSwitches\", ['enable-logging'])          # ERROR:device_event_log_impl.cc~~ などのログ出力を無効化\n",
    "    options.add_experimental_option('useAutomationExtension', False)                # 拡張機能の自動更新を停止\n",
    "    options.add_argument('--autoplay-policy=no-user-gesture-required')              # 自動再生を有効化\n",
    "    prefs = {\n",
    "        'profile.default_content_setting_values.notifications' : 2,                 # 通知ポップアップを無効\n",
    "        'credentials_enable_service' : False,                                       # パスワード保存のポップアップを無効\n",
    "        'profile.password_manager_enabled' : False,                                 # パスワード保存のポップアップを無効\n",
    "        # 'download.default_directory' : download_dir                               # ダウンロード先のディレクトリを指定\n",
    "    }\n",
    "    options.add_experimental_option('prefs', prefs)\n",
    "\n",
    "    # テスト用のChromeブラウザを起動するためのオプションを指定\n",
    "    #chrome_options = webdriver.ChromeOptions()\n",
    "    # テスト用Chromeの実行ファイルへのパス\n",
    "    options.binary_location = \"C:\\Program Files\\chrome-win64\\chrome.exe\"\n",
    "\n",
    "    # ChromeDriverを起動\n",
    "    #driver = webdriver.Chrome()\n",
    "    driver = webdriver.Chrome(options=options)\n",
    "    driver.get(url)\n",
    "\n",
    "    # ウェブページを開いたり、操作したりするコードをここに追加\n",
    "    # 開くまでの待機時間\n",
    "    time.sleep(5)\n",
    "    driver.quit()\n"
   ]
  },
  {
   "cell_type": "code",
   "execution_count": null,
   "id": "fbe8bab9",
   "metadata": {
    "scrolled": true
   },
   "outputs": [],
   "source": []
  },
  {
   "cell_type": "code",
   "execution_count": null,
   "id": "6afb4cfa",
   "metadata": {},
   "outputs": [],
   "source": [
    "# import chromedriver_binary\n",
    "\n",
    "\n",
    "# from webdriver_manager.chrome import ChromeDriverManager\n",
    " \n",
    "# #driver = webdriver.Chrome(ChromeDriverManager().install())\n",
    "\n",
    "# driver = webdriver.Chrome() #ウェブドライバのパスの設定しておく必要あり\n",
    "# driver.get(\"https://www.youtube.com/\")\n",
    "# time.sleep(5)\n",
    "# browser.quit()\n",
    "\n",
    "# driver = webdriver.Chrome()  # Optional argument, if not specified will search path.\n",
    "# driver.get('http://www.google.com/');\n",
    "# time.sleep(5) # Let the user actually see something!\n",
    "# search_box = driver.find_element_by_name('q')\n",
    "# search_box.send_keys('ChromeDriver')\n",
    "# search_box.submit()\n",
    "# time.sleep(5) # Let the user actually see something!\n",
    "# driver.quit()\n",
    "\n",
    "#from selenium import webdriver"
   ]
  },
  {
   "cell_type": "code",
   "execution_count": null,
   "id": "956d7d2e",
   "metadata": {},
   "outputs": [],
   "source": []
  }
 ],
 "metadata": {
  "kernelspec": {
   "display_name": "Python 3 (ipykernel)",
   "language": "python",
   "name": "python3"
  },
  "language_info": {
   "codemirror_mode": {
    "name": "ipython",
    "version": 3
   },
   "file_extension": ".py",
   "mimetype": "text/x-python",
   "name": "python",
   "nbconvert_exporter": "python",
   "pygments_lexer": "ipython3",
   "version": "3.7.16"
  }
 },
 "nbformat": 4,
 "nbformat_minor": 5
}
